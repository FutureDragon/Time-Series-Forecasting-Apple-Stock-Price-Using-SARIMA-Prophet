{
  "cells": [
    {
      "cell_type": "markdown",
      "metadata": {
        "colab_type": "text",
        "id": "view-in-github"
      },
      "source": [
        "<a href=\"https://colab.research.google.com/github/FutureDragon/Time-Series-Forecasting-Apple-Stock-Price-Using-SARIMA-Prophet/blob/master/Time_Series_Analysis_%26_Forecasting_of_Apple_Stock_Price_.ipynb\" target=\"_parent\"><img src=\"https://colab.research.google.com/assets/colab-badge.svg\" alt=\"Open In Colab\"/></a>"
      ]
    },
    {
      "cell_type": "markdown",
      "metadata": {
        "id": "kMTtHmaq9d9H"
      },
      "source": [
        "# **Project Title : Apple Stock Price Forecasting Using SARIMA & Prophet**\n",
        "\n"
      ]
    },
    {
      "cell_type": "markdown",
      "metadata": {
        "id": "pLmCKHJQc7La"
      },
      "source": [
        "**Problem Statement :-**\n",
        "\n",
        "*Time Series Analysis of Apple Stock .*\n",
        "\n",
        "**Problem Type** : Forecasting\n",
        "\n",
        "**Actionable Decision** : Whether to Invest or Not in the Stock "
      ]
    },
    {
      "cell_type": "markdown",
      "metadata": {
        "id": "ksAK0yIA9udw"
      },
      "source": [
        "Importing and installing libraries\n"
      ]
    },
    {
      "cell_type": "code",
      "execution_count": null,
      "metadata": {
        "id": "_jx_pYioeSEU"
      },
      "outputs": [],
      "source": [
        "#%%capture\n",
        "##Installing\n",
        "!pip install prophet\n",
        "!pip install -U statsmodels\n",
        "!pip install colorama"
      ]
    },
    {
      "cell_type": "code",
      "execution_count": null,
      "metadata": {
        "id": "F6dIIoj79YmK"
      },
      "outputs": [],
      "source": [
        "##Importing Packages\n",
        "import pandas as pd\n",
        "import numpy as np\n",
        "import matplotlib.pyplot as plt\n",
        "import seaborn as sns\n",
        "import numpy as np\n",
        "from statsmodels.tsa.seasonal import seasonal_decompose as sd\n",
        "from scipy import stats \n",
        "from statsmodels.graphics.gofplots import qqplot as qq\n",
        "from scipy.stats import kurtosis\n",
        "import scipy\n",
        "from statsmodels.tsa.stattools import adfuller\n",
        "from pylab import rcParams\n",
        "from statsmodels.graphics.tsaplots import plot_acf,plot_pacf\n",
        "from pandas.core.window.rolling import Rolling\n",
        "from sklearn.model_selection import train_test_split as split\n",
        "from statsmodels.tsa.arima_model import ARIMA\n",
        "from statsmodels.tsa.statespace.sarimax import SARIMAX\n",
        "import statsmodels.api as sm\n",
        "import warnings\n",
        "import itertools\n",
        "warnings.filterwarnings(\"ignore\")\n",
        "from statsmodels.stats.diagnostic import acorr_ljungbox\n",
        "from sklearn.metrics import mean_squared_error, r2_score, mean_absolute_error, median_absolute_error, mean_squared_log_error\n",
        "from sklearn.model_selection import KFold, ShuffleSplit, StratifiedKFold, StratifiedShuffleSplit, TimeSeriesSplit\n",
        "from prophet import Prophet\n",
        "from IPython import display\n",
        "from matplotlib import pyplot\n",
        "import os\n",
        "import re\n",
        "from colorama import Fore, Back, Style\n",
        "import seaborn as sns\n",
        "import plotly.express as px\n",
        "import warnings\n",
        "from matplotlib.patches import Patch"
      ]
    },
    {
      "cell_type": "code",
      "execution_count": null,
      "metadata": {
        "colab": {
          "base_uri": "https://localhost:8080/"
        },
        "id": "rc0qDmQ69Gwe",
        "outputId": "ca5896e5-49e5-4685-d861-89927552d689"
      },
      "outputs": [],
      "source": [
        "##Matplotlib Parameters\n",
        "import matplotlib.ticker as ticker\n",
        "rcParams['axes.labelsize'] = 12\n",
        "rcParams['xtick.labelsize'] = 12\n",
        "rcParams['ytick.labelsize'] = 12\n",
        "plt.style.context('fivethirtyeight')"
      ]
    },
    {
      "cell_type": "markdown",
      "metadata": {
        "id": "MRbdqg4j-mm8"
      },
      "source": [
        "# Loading Data \n",
        "From CSV File(Source: Yahoo Finance)"
      ]
    },
    {
      "cell_type": "code",
      "execution_count": null,
      "metadata": {
        "colab": {
          "base_uri": "https://localhost:8080/"
        },
        "id": "BhfLRfGAj-t-",
        "outputId": "405fdc4c-b598-471e-cdfa-0e3459f19bda"
      },
      "outputs": [],
      "source": [
        "#from google.colab import drive\n",
        "#drive.mount('/content/drive')"
      ]
    },
    {
      "cell_type": "code",
      "execution_count": null,
      "metadata": {},
      "outputs": [],
      "source": [
        "ticker = 'AAPL'"
      ]
    },
    {
      "cell_type": "code",
      "execution_count": null,
      "metadata": {
        "id": "bAsno21V9Yw3"
      },
      "outputs": [],
      "source": [
        "#data = pd.read_csv('/content/drive/My Drive/GitHub Projects/Time Series /Orignal DataSet/AAPL.csv')\n",
        "import yfinance as yf\n",
        "ticker_data = yf.download(ticker, period='12y')"
      ]
    },
    {
      "cell_type": "code",
      "execution_count": null,
      "metadata": {
        "colab": {
          "base_uri": "https://localhost:8080/",
          "height": 206
        },
        "id": "hLXgTg9A9Yzl",
        "outputId": "99c37dd4-34df-417f-b391-dfea59ca4a41"
      },
      "outputs": [],
      "source": [
        "data = ticker_data\n",
        "data.head()"
      ]
    },
    {
      "cell_type": "markdown",
      "metadata": {
        "id": "a6oBR3N8AIUh"
      },
      "source": [
        "**Data Describtion :-**\n",
        "\n",
        "**Date**  : Date of trading\n",
        "\n",
        "**Open**  : Price at which security first trades\n",
        "\n",
        "**High**  : Highest Price of the trading day\n",
        "\n",
        "**Low**   : Lowest Price of the trading day\n",
        "\n",
        "**Close** : Last Price the stock traded during the trading day\n",
        "\n",
        "**Adj Close** : Price that is adjusts Coroporate Actions on Closing Price\n",
        "\n",
        "**Volume** : Number of Shares that changed hands during the trading day"
      ]
    },
    {
      "cell_type": "code",
      "execution_count": null,
      "metadata": {
        "colab": {
          "base_uri": "https://localhost:8080/",
          "height": 300
        },
        "id": "tS_C8E1V9Y19",
        "outputId": "08e4ae02-a79e-4586-c56a-31fdf24c2c26"
      },
      "outputs": [],
      "source": [
        "##Summary Statistics\n",
        "data.describe()"
      ]
    },
    {
      "cell_type": "code",
      "execution_count": null,
      "metadata": {
        "colab": {
          "base_uri": "https://localhost:8080/",
          "height": 272
        },
        "id": "UUCCDbAuB-vR",
        "outputId": "1ee2fe49-0a1b-484e-f168-c1f3abbb4407"
      },
      "outputs": [],
      "source": [
        "##Exploring Data\n",
        "data.info()"
      ]
    },
    {
      "cell_type": "markdown",
      "metadata": {
        "id": "SMj-zoLBVoDL"
      },
      "source": [
        "# Data Preprocessing"
      ]
    },
    {
      "cell_type": "code",
      "execution_count": null,
      "metadata": {
        "id": "7NUiOQuKlS9f"
      },
      "outputs": [],
      "source": [
        "##Dealing with Data Types"
      ]
    },
    {
      "cell_type": "code",
      "execution_count": null,
      "metadata": {
        "colab": {
          "base_uri": "https://localhost:8080/"
        },
        "id": "cZIDd_V1lTCz",
        "outputId": "54bba91f-ff8a-4ee5-def5-c24adf72a9d8"
      },
      "outputs": [],
      "source": [
        "##Converting Date to DateTime Object\n",
        "#data['Date']"
      ]
    },
    {
      "cell_type": "code",
      "execution_count": null,
      "metadata": {
        "id": "iPnjdZrplTA4"
      },
      "outputs": [],
      "source": [
        "#data['Date'] = pd.to_datetime(data['Date'],format='%Y-%m-%d')"
      ]
    },
    {
      "cell_type": "code",
      "execution_count": null,
      "metadata": {
        "colab": {
          "base_uri": "https://localhost:8080/"
        },
        "id": "UQ0JoW0ulS7o",
        "outputId": "f2a46810-fbbe-43ac-cfed-f9fdb4dbdf01"
      },
      "outputs": [],
      "source": [
        "data.dtypes"
      ]
    },
    {
      "cell_type": "code",
      "execution_count": null,
      "metadata": {
        "id": "WQN9heGFrAyn"
      },
      "outputs": [],
      "source": [
        "##Making Date as Index \n",
        "#data.set_index('Date',inplace=True)"
      ]
    },
    {
      "cell_type": "code",
      "execution_count": null,
      "metadata": {
        "id": "i0cK8ZpYBSnq"
      },
      "outputs": [],
      "source": [
        "#data['Date'] = data.index"
      ]
    },
    {
      "cell_type": "code",
      "execution_count": null,
      "metadata": {
        "colab": {
          "base_uri": "https://localhost:8080/",
          "height": 238
        },
        "id": "OamxtFiwrTl9",
        "outputId": "254f2336-3e81-4161-dc48-7983360729b7"
      },
      "outputs": [],
      "source": [
        "data.head()"
      ]
    },
    {
      "cell_type": "code",
      "execution_count": null,
      "metadata": {
        "colab": {
          "base_uri": "https://localhost:8080/"
        },
        "id": "n0KnAi9jrTr3",
        "outputId": "640b6b63-3cbc-4fce-bc34-7f34c0b8d1a2"
      },
      "outputs": [],
      "source": [
        "##Checking Null Values\n",
        "data.isnull().sum()"
      ]
    },
    {
      "cell_type": "code",
      "execution_count": null,
      "metadata": {
        "id": "f6M1C1dxrTv4"
      },
      "outputs": [],
      "source": [
        "##Visualizing "
      ]
    },
    {
      "cell_type": "code",
      "execution_count": null,
      "metadata": {
        "colab": {
          "base_uri": "https://localhost:8080/",
          "height": 1000
        },
        "id": "-Azinb5urTpa",
        "outputId": "cdafeef0-707f-4bb9-c7d5-157dd49092bb"
      },
      "outputs": [],
      "source": [
        "col_names = data.columns\n",
        "\n",
        "fig = plt.figure(figsize=(24, 24))\n",
        "for i in range(6):\n",
        "  ax = fig.add_subplot(6,1,i+1)\n",
        "  ax.plot(data.iloc[:,i],label=col_names[i])\n",
        "  data.iloc[:,i].rolling(100).mean().plot(label='Rolling Mean')\n",
        "  ax.set_title(col_names[i],fontsize=18)\n",
        "  ax.set_xlabel('Date')\n",
        "  ax.set_ylabel('Price')\n",
        "  ax.patch.set_edgecolor('black')  \n",
        "  plt.style.context('fivethirtyeight')\n",
        "  plt.legend(prop={'size': 12})\n",
        "  plt.style.use('fivethirtyeight')\n",
        "\n",
        "fig.tight_layout(pad=3.0)\n",
        "\n",
        "plt.show()"
      ]
    },
    {
      "cell_type": "markdown",
      "metadata": {
        "id": "zunPun-3mf1e"
      },
      "source": [
        "# **Feature Selection**\n",
        "We can eliminate features like Open,Low, High Close automatically as they are high multicollinear with Adj Close .\n",
        "\n",
        "We consider Adj Close as our target variables as it accounts for all corporate decisions like stock split and dividents."
      ]
    },
    {
      "cell_type": "code",
      "execution_count": null,
      "metadata": {
        "colab": {
          "base_uri": "https://localhost:8080/",
          "height": 781
        },
        "id": "hp9qKfqrrScD",
        "outputId": "bf71f326-edac-4af0-8d44-253fef9732b9"
      },
      "outputs": [],
      "source": [
        "##HeatMap to Verify Multicollinearity between Features\n",
        "fig = plt.figure(figsize=(16,12))\n",
        "matrix = np.triu(data.corr())\n",
        "ax = sns.heatmap(data.corr(),annot=True,annot_kws={\"size\":14},mask=matrix,cmap='coolwarm')\n",
        "ax.tick_params(labelsize=14)\n",
        "sns.set(font_scale=3)\n",
        "ax.set_title('HeatMap')\n",
        "plt.style.use('fivethirtyeight')\n",
        "plt.show()"
      ]
    },
    {
      "cell_type": "code",
      "execution_count": null,
      "metadata": {
        "id": "nbr7icBVrQ3t"
      },
      "outputs": [],
      "source": [
        "##Data after feature selection\n",
        "data_feature_selected = data.drop(axis=1,labels=['Open','High','Low','Close','Volume'])\n"
      ]
    },
    {
      "cell_type": "code",
      "execution_count": null,
      "metadata": {
        "colab": {
          "base_uri": "https://localhost:8080/",
          "height": 455
        },
        "id": "5oocxxgirQ82",
        "outputId": "fea7e37e-29df-49bf-bc6a-1b3a36ea6009"
      },
      "outputs": [],
      "source": [
        "col_order = ['Date','Adj Close']\n",
        "data_feature_selected = data_feature_selected.reindex(columns=col_order)\n",
        "data_feature_selected"
      ]
    },
    {
      "cell_type": "markdown",
      "metadata": {
        "id": "mDP7qsanXAYq"
      },
      "source": [
        "# Resampling"
      ]
    },
    {
      "cell_type": "code",
      "execution_count": null,
      "metadata": {
        "id": "RH2DdI_lT75s"
      },
      "outputs": [],
      "source": [
        "##Resample Data to Monthly instead of Daily by Aggregating Using Mean\n",
        "monthly_mean = data_feature_selected['Adj Close'].resample('M').mean()"
      ]
    },
    {
      "cell_type": "code",
      "execution_count": null,
      "metadata": {
        "colab": {
          "base_uri": "https://localhost:8080/",
          "height": 455
        },
        "id": "86fbMX4AU8pL",
        "outputId": "3c663e90-44e5-4797-adce-9d9eff22819f"
      },
      "outputs": [],
      "source": [
        "monthly_data = monthly_mean.to_frame()\n",
        "monthly_data"
      ]
    },
    {
      "cell_type": "code",
      "execution_count": null,
      "metadata": {
        "colab": {
          "base_uri": "https://localhost:8080/",
          "height": 516
        },
        "id": "-PD6jNCXVhoK",
        "outputId": "53b2b80e-e515-4397-8801-3ea7d88ad97c"
      },
      "outputs": [],
      "source": [
        "##Monthly Stock Price \n",
        "fig = plt.figure(figsize=(18,8))\n",
        "plt.plot(monthly_data['Adj Close'],label='Monthly Averages Apple Stock')\n",
        "plt.xticks(fontsize=16)\n",
        "plt.yticks(fontsize=16)\n",
        "ax.set_title('Monthly Resampled Data')\n",
        "plt.style.use('fivethirtyeight')\n",
        "plt.legend(prop={'size': 12})\n",
        "plt.show()"
      ]
    },
    {
      "cell_type": "markdown",
      "metadata": {
        "id": "WYdLNbCP9iBq"
      },
      "source": [
        "# Exploratory Data Analysis"
      ]
    },
    {
      "cell_type": "code",
      "execution_count": null,
      "metadata": {
        "colab": {
          "base_uri": "https://localhost:8080/",
          "height": 455
        },
        "id": "1WYAEnpOrRNx",
        "outputId": "66dae26a-4f6f-474b-abd3-8bbdd3071731"
      },
      "outputs": [],
      "source": [
        "monthly_data['Year'] = monthly_data.index.year\n",
        "monthly_data['Month'] = monthly_data.index.strftime('%B')\n",
        "monthly_data['dayofweek'] = monthly_data.index.strftime('%A')\n",
        "monthly_data['quarter'] = monthly_data.index.quarter\n",
        "monthly_data"
      ]
    },
    {
      "cell_type": "code",
      "execution_count": null,
      "metadata": {
        "colab": {
          "base_uri": "https://localhost:8080/",
          "height": 595
        },
        "id": "TguUjLQTYLoe",
        "outputId": "f76f64b9-6598-4ebc-8c50-77ef09506e92"
      },
      "outputs": [],
      "source": [
        "##Checking Distribution of Our Data \n",
        "fig = plt.figure(figsize=(10,8))\n",
        "sns.distplot(monthly_data['Adj Close']).set_title(\"Distribution Plot Adj Close -AAPL\")\n",
        "ax.tick_params(labelsize=12)\n",
        "sns.set(font_scale=1)\n",
        "plt.xticks(fontsize=16)\n",
        "plt.yticks(fontsize=16)\n"
      ]
    },
    {
      "cell_type": "markdown",
      "metadata": {
        "id": "DBP7TCvPUl4A"
      },
      "source": [
        "**Distribution Plot Inference** : Distribution shows Right Skew"
      ]
    },
    {
      "cell_type": "code",
      "execution_count": null,
      "metadata": {
        "colab": {
          "base_uri": "https://localhost:8080/",
          "height": 455
        },
        "id": "SR4_phA8USYQ",
        "outputId": "2a27fc4f-fb01-421f-eca8-25096fa379c0"
      },
      "outputs": [],
      "source": [
        "fig = plt.figure(figsize=(8,6))\n",
        "sns.boxplot(monthly_data['Adj Close']).set_title('Box Plot Apple Stock Price')\n",
        "plt.style.context('fivethirtyeight')\n"
      ]
    },
    {
      "cell_type": "markdown",
      "metadata": {
        "id": "_47_mY7BU0OY"
      },
      "source": [
        "**Box-Plot Inference** :- \n",
        "\n",
        "->Distribution shows Right Skew \n",
        "\n",
        "->Outlier towards the higher end around Stock price of 300$"
      ]
    },
    {
      "cell_type": "code",
      "execution_count": null,
      "metadata": {
        "colab": {
          "base_uri": "https://localhost:8080/",
          "height": 803
        },
        "id": "23bbRVgKHGcA",
        "outputId": "70f492e8-92c9-4ce2-b727-32302c1518d7"
      },
      "outputs": [],
      "source": [
        "qq_plot = qq(monthly_data['Adj Close'],line='s')\n",
        "plt.title('QQ Plot Apple Stock Price')"
      ]
    },
    {
      "cell_type": "markdown",
      "metadata": {
        "id": "NYntS5oBVYGv"
      },
      "source": [
        "**QQ plot Inference :-**\n",
        "\n",
        "->Heavy Tailed Distribution-Curve at Extremities\n",
        "\n",
        "-> Shows extent of both right and left skews \n",
        "\n",
        "->Shows Distribution is Not following Gaussian Normal Distribution\n"
      ]
    },
    {
      "cell_type": "code",
      "execution_count": null,
      "metadata": {
        "colab": {
          "base_uri": "https://localhost:8080/",
          "height": 53
        },
        "id": "YJ2j4-W7ICX_",
        "outputId": "1c899cab-6dfd-4c0b-acdf-4d5811abe165"
      },
      "outputs": [],
      "source": [
        "print('Skewness of Distribution is ',monthly_data['Adj Close'].skew())\n",
        "print('Kurtosis of Distribution is ',monthly_data['Adj Close'].kurtosis())"
      ]
    },
    {
      "cell_type": "markdown",
      "metadata": {
        "id": "o1Kr8nC1HFdX"
      },
      "source": [
        "Stock Price is Heavily skewed -Right tailed Skewness\n"
      ]
    },
    {
      "cell_type": "code",
      "execution_count": null,
      "metadata": {
        "colab": {
          "base_uri": "https://localhost:8080/",
          "height": 803
        },
        "id": "Ku8qaNilYuAw",
        "outputId": "d9a68c26-c2e6-4747-cb33-751524095cc4"
      },
      "outputs": [],
      "source": [
        "plt.figure(figsize=(12,12))\n",
        "ax = sns.boxplot(x=monthly_data['Year'],y=monthly_data['Adj Close'],palette='RdBu')\n",
        "ax.set_title('Box Plots Year Wise-Apple Stock Price')\n",
        "plt.style.context('fivethirtyeight')"
      ]
    },
    {
      "cell_type": "markdown",
      "metadata": {
        "id": "X6i-XHoZOVHW"
      },
      "source": [
        "**Inferences Box Plot**\n",
        "\n",
        "->Outliers Present in Year 2012 and 2019\n",
        "\n",
        "->Lot of Variability in Years 2014, 2017-19\n",
        "\n",
        "->2019 most volatile year among all years\n",
        "\n",
        "->Upward Rising Trend is shown "
      ]
    },
    {
      "cell_type": "code",
      "execution_count": null,
      "metadata": {
        "id": "vPknY7BPeJW6"
      },
      "outputs": [],
      "source": [
        "group_by_yr = []\n",
        "list_years = monthly_data['Year'].unique()\n",
        "dict_IQR = {}\n",
        "for yr in list_years:\n",
        "  group_by_yr.append('df' + str(yr)) \n",
        "\n",
        "for enum,yr in enumerate(list_years):\n",
        "   group_by_yr[enum] = monthly_data[str(yr)]['Adj Close']\n",
        "   dict_IQR[str(yr)] = stats.iqr(group_by_yr[enum])"
      ]
    },
    {
      "cell_type": "code",
      "execution_count": null,
      "metadata": {
        "colab": {
          "base_uri": "https://localhost:8080/",
          "height": 163
        },
        "id": "5ZsGl-zFjpv9",
        "outputId": "6904048e-9afa-473f-b125-30317aad4d09"
      },
      "outputs": [],
      "source": [
        "##Interquartile Range(IQR) Year Wise for Stock Price\n",
        "dict_IQR"
      ]
    },
    {
      "cell_type": "code",
      "execution_count": null,
      "metadata": {
        "colab": {
          "base_uri": "https://localhost:8080/",
          "height": 359
        },
        "id": "IAQ539W2NYVR",
        "outputId": "5f285aa3-0d65-41dc-fe8b-1056e8e60f62"
      },
      "outputs": [],
      "source": [
        "\n",
        "IQR_df = pd.DataFrame(dict_IQR.items(),columns=['Year','IQR'])\n",
        "IQR_df.index = IQR_df['Year']\n",
        "IQR_df.plot(kind='bar')\n",
        "plt.xticks(rotation=45)\n",
        "plt.style.context('fivethirtyeight')\n",
        "plt.title('IQR Year Wise-Apple Stock Price')\n",
        "plt.ylabel('InterQuartile Range')\n"
      ]
    },
    {
      "cell_type": "markdown",
      "metadata": {
        "id": "5gAN9iofyzPD"
      },
      "source": [
        "->When Data is Not Normal Inter-Quartile Range(IQR)  is Better Variability Metric than Standard Deviation as IQR is not affected by outliers.\n",
        "\n",
        "->As observed with BoxPlot 2014 and 2019 are the most volatile Years for Apple Stock"
      ]
    },
    {
      "cell_type": "code",
      "execution_count": null,
      "metadata": {
        "colab": {
          "base_uri": "https://localhost:8080/",
          "height": 666
        },
        "id": "O1Qf666JdvEw",
        "outputId": "fad1d1ed-971e-4670-de26-b0b7e2a041b9"
      },
      "outputs": [],
      "source": [
        "fig, ax = plt.subplots(figsize=(20,10))\n",
        "palette = sns.color_palette(\"mako_r\", 4)\n",
        "a = sns.barplot(x=\"Year\", y=\"Adj Close\",hue = 'Month',data=monthly_data)\n",
        "a.set_title(\"Stock Prices Year & Month Wise\",fontsize=15)\n",
        "plt.legend(loc='upper left')\n",
        "plt.show()"
      ]
    },
    {
      "cell_type": "markdown",
      "metadata": {
        "id": "cp1KKlHisdR_"
      },
      "source": [
        "Above figure shows that the Period from July-September seems to push stock price above in comparision to other months. The primary reason for this is as Apple has a product cycle release date during this time,the Wallstreet is excited about upcoming products .\n",
        "\n"
      ]
    },
    {
      "cell_type": "code",
      "execution_count": null,
      "metadata": {
        "colab": {
          "base_uri": "https://localhost:8080/",
          "height": 1000
        },
        "id": "PUtsXH02ySty",
        "outputId": "a031bacd-3947-4e6c-ac32-13683fc330eb"
      },
      "outputs": [],
      "source": [
        "fig = plt.figure(figsize=(10,16))\n",
        "fig.set_size_inches(10,16)\n",
        "group_cols = monthly_data.columns\n",
        "\n",
        "for enum,i in enumerate(group_cols[1:]):\n",
        "  ax = fig.add_subplot(4,1,enum+1)\n",
        "  Aggregated = pd.DataFrame(monthly_data.groupby(str(i))[\"Adj Close\"].mean()).reset_index().sort_values('Adj Close')\n",
        "  sns.barplot(data=Aggregated,x=str(i),y=\"Adj Close\",ax=ax)\n",
        "  ax.set(xlabel=str(i), ylabel='Mean Adj Close')\n",
        "  ax.set_title(\"Average Stock Price By {}\".format(str(i)),fontsize=15)\n",
        "  plt.xticks(rotation=45)\n",
        "  \n",
        "plt.tight_layout(pad=1)"
      ]
    },
    {
      "cell_type": "markdown",
      "metadata": {
        "id": "ha8xIFBRtWWn"
      },
      "source": [
        "->According to Mean price by Years, 2013 and 2016 are the only years where Mean price is lower than previous Year.\n",
        "\n",
        "->Average Stock Price is lower at start of the week in comparision to the end of the week.\n",
        "\n",
        "->The Average Price is Highest in the Month of November.\n",
        "\n",
        "->Q4 is the best for Apple according to average stock price.\n",
        "By sales figures Q4 has always been strong for Apple since the new product cycle takes place and its the Holiday period. We also observe this as a seasonal effect for Apple.\n",
        "\n"
      ]
    },
    {
      "cell_type": "markdown",
      "metadata": {
        "id": "Qs1ksYL3YzWA"
      },
      "source": [
        "# Decomposition of Time Series\n"
      ]
    },
    {
      "cell_type": "code",
      "execution_count": null,
      "metadata": {
        "colab": {
          "base_uri": "https://localhost:8080/",
          "height": 595
        },
        "id": "99NIFzasHUpL",
        "outputId": "c51ace5e-663a-4533-ee11-82eb8322d812"
      },
      "outputs": [],
      "source": [
        "rcParams['figure.figsize'] = 18, 8\n",
        "plt.figure(figsize=(20,16))\n",
        "decomposed_series = sd(monthly_data['Adj Close'],model='additive',freq=12)\n",
        "decomposed_series.plot()\n",
        "plt.show()"
      ]
    },
    {
      "cell_type": "code",
      "execution_count": null,
      "metadata": {
        "colab": {
          "base_uri": "https://localhost:8080/",
          "height": 569
        },
        "id": "M0xOaB28Br4k",
        "outputId": "a4a1f6a5-0cbf-4d98-dc8a-fa1c4339a02d"
      },
      "outputs": [],
      "source": [
        "##Drilling Down and Observing Seasonality\n",
        "decomposed_series.seasonal['2012':'2013'].plot()\n",
        "fig = plt.figure(figsize=(8,8))"
      ]
    },
    {
      "cell_type": "markdown",
      "metadata": {
        "id": "cjo5ni_jlDRx"
      },
      "source": [
        "**Inferences By Decomposition :-**\n",
        "\n",
        "->Trend : Overall an Upward Trend\n",
        "\n",
        "-> Seasonality :There appears to be seasonality,AAPL has rallied during the Holiday season as expected. Since Holiday period has good sales for Apple Over the Years.\n"
      ]
    },
    {
      "cell_type": "markdown",
      "metadata": {
        "id": "_RkdZiYmbBWU"
      },
      "source": [
        "# Stationarity of Time Series "
      ]
    },
    {
      "cell_type": "markdown",
      "metadata": {
        "id": "jKFbFU29osau"
      },
      "source": [
        "**Stationarity Test of Time Series**\n",
        "\n",
        "Using Augmented Dickey-Fuller(ADF) Test\n",
        "\n",
        "**Null Hypothesis** : Time series has a unit root -*It is non-stationary*\n",
        "\n",
        "**Alternate Hypothesis** :   Time series does not have a unit root -*It is stationary*\n",
        "\n",
        "\n",
        "Time Series is Stationary if we have constant mean,constant variance and No Trend and Seasonality."
      ]
    },
    {
      "cell_type": "code",
      "execution_count": null,
      "metadata": {
        "id": "HunYV8Q2l3k_"
      },
      "outputs": [],
      "source": [
        "##ADF Test-Statsmodels Library\n",
        "\n",
        "def ad_fuller_func(X):\n",
        "  result_ad_fuller = adfuller(X)\n",
        "  print('ADF Statistic: %f' % result_ad_fuller[0])\n",
        "  print('p-value: %f' %result_ad_fuller[1])\n",
        "  print('Critical Values:')\n",
        "  for key, value in result_ad_fuller[4].items():\n",
        "\t  print('\\t%s: %.3f' % (key, value))\n",
        " \n",
        "  if result_ad_fuller[0] < result_ad_fuller[4]['5%']:\n",
        "    print('Reject Null Hypothesis(Ho)-Time Series is Stationary')\n",
        "  else:\n",
        "    print('Failed to Reject Ho-Time Series is Non-Stationary')\n",
        "\n"
      ]
    },
    {
      "cell_type": "code",
      "execution_count": null,
      "metadata": {
        "colab": {
          "base_uri": "https://localhost:8080/",
          "height": 144
        },
        "id": "wTChFum0l3ia",
        "outputId": "1ca07675-a4b0-457f-bb77-9416a0fceb42"
      },
      "outputs": [],
      "source": [
        "ad_fuller_func(monthly_data['Adj Close'])"
      ]
    },
    {
      "cell_type": "markdown",
      "metadata": {
        "id": "yP6r2vSjv4HQ"
      },
      "source": [
        "Time Series is Not Stationary as observed earlier also by Decomposition(Trend and Seasonality Present)\n",
        "\n",
        "Statistically verified by ADF Test"
      ]
    },
    {
      "cell_type": "markdown",
      "metadata": {
        "id": "pWYUAcwnI0I8"
      },
      "source": [
        "AutoCorrelation Function(ACF)"
      ]
    },
    {
      "cell_type": "code",
      "execution_count": null,
      "metadata": {
        "colab": {
          "base_uri": "https://localhost:8080/",
          "height": 808
        },
        "id": "2LvgzyB6b1SE",
        "outputId": "c094017e-f4ff-498c-f4c6-17cacf1f8a6b"
      },
      "outputs": [],
      "source": [
        "fig,(ax1,ax2) = plt.subplots(2,figsize=(12,12))\n",
        "acf = plot_acf(monthly_data['Adj Close'],lags=90,ax=ax1)\n",
        "ax1.set_title('AutoCorrelation Long Term')\n",
        "acf = plot_acf(monthly_data['Adj Close'],lags=30,ax=ax2)\n",
        "ax2.set_title('AutoCorrelation Short Term')\n",
        "ax1.set_ylabel('Correlation')\n",
        "ax1.set_xlabel('Lags')\n",
        "ax2.set_ylabel('Correlation')\n",
        "ax2.set_xlabel('Lags')"
      ]
    },
    {
      "cell_type": "markdown",
      "metadata": {
        "id": "gKFjf-QkMoLH"
      },
      "source": [
        "Interpreting ACF Plot :-\n",
        "\n",
        "->Slow Decay of correlation values indicates that the future values are heavily dependent on the lagged values . This shows that the series is not random and good for time series modelling .\n",
        "\n",
        "->Also tells us series is Non-stationary\n",
        "\n",
        "->It indicates a MA(1) process"
      ]
    },
    {
      "cell_type": "code",
      "execution_count": null,
      "metadata": {
        "colab": {
          "base_uri": "https://localhost:8080/",
          "height": 723
        },
        "id": "RA2JfUz0FQAw",
        "outputId": "0cc45a99-ea41-4f88-cd53-05bff890e787"
      },
      "outputs": [],
      "source": [
        "fig,(ax1,ax2) = plt.subplots(2,figsize=(10,10))\n",
        "pacf = plot_pacf(monthly_data['Adj Close'],lags=90,ax=ax1)\n",
        "ax1.set_title('Partial AutoCorrelation Long Term')\n",
        "pacf = plot_pacf(monthly_data['Adj Close'],lags=30,ax=ax2)\n",
        "ax2.set_title('Partial AutoCorrelation Short Term')\n",
        "ax1.set_ylabel('Correlation')\n",
        "ax1.set_xlabel('Lags')\n",
        "ax2.set_ylabel('Correlation')\n",
        "ax2.set_xlabel('Lags')\n",
        "plt.tight_layout(pad=1)"
      ]
    },
    {
      "cell_type": "markdown",
      "metadata": {
        "id": "qoDT01qVOTaA"
      },
      "source": [
        "Interpreting PACF Plot :-\n",
        "\n",
        "->Sudden Decay at Lag-1\n",
        "\n",
        "->Order of series seems AR(1)\n",
        "\n"
      ]
    },
    {
      "cell_type": "markdown",
      "metadata": {
        "id": "u7StKbiGBN2E"
      },
      "source": [
        "**Transformations To Make Series Stationary**"
      ]
    },
    {
      "cell_type": "code",
      "execution_count": null,
      "metadata": {
        "id": "5GUeugXGuV5s"
      },
      "outputs": [],
      "source": [
        "##Differencing By 1\n",
        "monthly_diff = monthly_data['Adj Close'] - monthly_data['Adj Close'].shift(1)"
      ]
    },
    {
      "cell_type": "code",
      "execution_count": null,
      "metadata": {
        "colab": {
          "base_uri": "https://localhost:8080/",
          "height": 551
        },
        "id": "5O8YVDgWuild",
        "outputId": "b4306cfe-2d36-4449-d6fa-d2ee6c0563d0"
      },
      "outputs": [],
      "source": [
        "monthly_diff[1:].plot(c='grey')\n",
        "monthly_diff[1:].rolling(20).mean().plot(label='Rolling Mean',c='orange')\n",
        "monthly_diff[1:].rolling(20).std().plot(label='Rolling STD',c='yellow')\n",
        "plt.legend(prop={'size': 12})"
      ]
    },
    {
      "cell_type": "markdown",
      "metadata": {
        "id": "KLCMldegD1m-"
      },
      "source": [
        "The series looks stationary as its having constant mean and variance ."
      ]
    },
    {
      "cell_type": "code",
      "execution_count": null,
      "metadata": {
        "colab": {
          "base_uri": "https://localhost:8080/",
          "height": 144
        },
        "id": "Ta2QpHlVCey9",
        "outputId": "0dba4c6d-ac76-405d-c14d-dd5311f076c5"
      },
      "outputs": [],
      "source": [
        "##Checking if Time Series is Stationary by Running ADF Test\n",
        "ad_fuller_func(monthly_diff[1:])"
      ]
    },
    {
      "cell_type": "code",
      "execution_count": null,
      "metadata": {
        "colab": {
          "base_uri": "https://localhost:8080/",
          "height": 723
        },
        "id": "652_q1f_DMuL",
        "outputId": "211f7053-a521-45b2-b2e0-dfb73a6dbf98"
      },
      "outputs": [],
      "source": [
        "fig,(ax1,ax2) = plt.subplots(2,figsize=(10,10))\n",
        "acf = plot_acf(monthly_diff[1:],lags=30,ax=ax1)\n",
        "pacf = plot_pacf(monthly_diff[1:],lags=30,ax=ax2)\n",
        "ax1.set_title('Autocorrelation For Differenced(1)')\n",
        "ax1.set_ylabel('Correlation')\n",
        "ax1.set_xlabel('Lags')\n",
        "ax2.set_title('Partial Autocorrelation For Differenced(1)')\n",
        "ax2.set_ylabel('Correlation')\n",
        "ax2.set_xlabel('Lags')\n",
        "plt.tight_layout(pad=1)"
      ]
    },
    {
      "cell_type": "markdown",
      "metadata": {
        "id": "ODmV41clHAmh"
      },
      "source": [
        "According to the ACF and PACF we can confirm that Differencing once has transformed series into Stationary"
      ]
    },
    {
      "cell_type": "markdown",
      "metadata": {
        "id": "VdwLea8AucLE"
      },
      "source": [
        "# **Modelling Seasonal ARIMA**"
      ]
    },
    {
      "cell_type": "code",
      "execution_count": null,
      "metadata": {
        "colab": {
          "base_uri": "https://localhost:8080/"
        },
        "id": "u2xNBBpPHPj4",
        "outputId": "b7162eb7-d115-4d95-f448-5107283cc8c3"
      },
      "outputs": [],
      "source": [
        "modelling_series = monthly_data['Adj Close']\n",
        "modelling_series"
      ]
    },
    {
      "cell_type": "markdown",
      "metadata": {
        "id": "R_exGmjTfS52"
      },
      "source": [
        "**Train-Test Split**"
      ]
    },
    {
      "cell_type": "code",
      "execution_count": null,
      "metadata": {
        "id": "XpG0OScAfI74"
      },
      "outputs": [],
      "source": [
        "train,test = split(modelling_series,train_size=0.6,shuffle=False)"
      ]
    },
    {
      "cell_type": "code",
      "execution_count": null,
      "metadata": {
        "colab": {
          "base_uri": "https://localhost:8080/"
        },
        "id": "8L_pqblifNob",
        "outputId": "fbb30ec9-66cb-4a2e-c4ab-10598efa190e"
      },
      "outputs": [],
      "source": [
        "train.head(2)"
      ]
    },
    {
      "cell_type": "code",
      "execution_count": null,
      "metadata": {
        "colab": {
          "base_uri": "https://localhost:8080/"
        },
        "id": "e9d3M31rfQ52",
        "outputId": "25c07a0e-b016-4d93-e5f5-54928cc98fb6"
      },
      "outputs": [],
      "source": [
        "test.head(2)"
      ]
    },
    {
      "cell_type": "code",
      "execution_count": null,
      "metadata": {
        "colab": {
          "base_uri": "https://localhost:8080/"
        },
        "id": "bYI46rUGfbOG",
        "outputId": "853d6083-4c45-4fc3-bf66-94606df3aeba"
      },
      "outputs": [],
      "source": [
        "print('Train',len(train))\n",
        "print('Test',len(test))"
      ]
    },
    {
      "cell_type": "code",
      "execution_count": null,
      "metadata": {
        "colab": {
          "base_uri": "https://localhost:8080/"
        },
        "id": "YVnoCbG5LBfh",
        "outputId": "4ba8344e-cf9b-4ab9-9e8c-9376d5a0d28d"
      },
      "outputs": [],
      "source": [
        "p = d = q = range(0, 3)\n",
        "pdq = list(itertools.product(p, d, q))\n",
        "seasonal_pdq = [(x[0], x[1], x[2], 12) for x in list(itertools.product(p, d, q))]\n",
        "\n",
        "print('Examples of grid search Model parameter combinations for Seasonal-ARIMA')\n",
        "print('SARIMAX: {} x {}'.format(pdq[1], seasonal_pdq[1]))\n"
      ]
    },
    {
      "cell_type": "code",
      "execution_count": null,
      "metadata": {
        "colab": {
          "base_uri": "https://localhost:8080/"
        },
        "id": "0-i6SzdgJaNr",
        "outputId": "6beb6da4-2115-41de-f129-75b9161c8fb2"
      },
      "outputs": [],
      "source": [
        "p = d = q = range(0, 3)\n",
        "pdq = list(itertools.product(p, d, q))\n",
        "seasonal_pdq = [(x[0], x[1], x[2], 12) for x in list(itertools.product(p, d, q))]\n",
        "\n",
        "print('Examples of grid search Model parameter combinations for Seasonal-ARIMA')\n",
        "print('SARIMAX: {} x {}'.format(pdq[1], seasonal_pdq[1]))"
      ]
    },
    {
      "cell_type": "markdown",
      "metadata": {
        "id": "9wmzm6KJNGME"
      },
      "source": [
        "Carrying out Grid Search to Select Parameters especially for Seasonal Component of the Time Series .\n",
        "\n",
        "Parameters for Series already indicate Non-Seasonality Part with Order (1,1,1).\n",
        "\n",
        "AR(1) derived by the PACF plot\n",
        "\n",
        "MA(1) derived by the ACF Plot\n",
        "\n",
        "Differencing(1) derived by differencing and observing stationarity.\n"
      ]
    },
    {
      "cell_type": "markdown",
      "metadata": {
        "id": "vrmEiNFyumUv"
      },
      "source": [
        "# Hyper Parameter Tuning for Model Order"
      ]
    },
    {
      "cell_type": "code",
      "execution_count": null,
      "metadata": {
        "id": "mTT79B4hmk5Y"
      },
      "outputs": [],
      "source": [
        "list_param = []\n",
        "list_param_seasonal=[]\n",
        "list_results_aic=[]\n",
        "\n",
        "for param in pdq:\n",
        "    for param_seasonal in seasonal_pdq:\n",
        "        try:\n",
        "            model = sm.tsa.statespace.SARIMAX(train,\n",
        "                                            order=param,\n",
        "                                            seasonal_order=param_seasonal,\n",
        "                                            enforce_stationarity=False,\n",
        "                                            enforce_invertibility=False)\n",
        "\n",
        "            results = model.fit()\n",
        "\n",
        "            print('ARIMA{}x{}12 - AIC:{}'.format(param, param_seasonal, results.aic))\n",
        "            \n",
        "            list_param.append(param)\n",
        "            list_param_seasonal.append(param_seasonal)\n",
        "            list_results_aic.append(results.aic)\n",
        "        except:\n",
        "            continue\n"
      ]
    },
    {
      "cell_type": "markdown",
      "metadata": {
        "id": "bpmL3EMZvqQM"
      },
      "source": [
        "ARIMA(1, 1, 1)x(1, 1, 0, 12)12 - AIC:350.75081385350666\n",
        "\n",
        "ARIMA(1, 1, 1)x(1, 1, 1, 12)12 - AIC:332.11071968501557\n",
        "\n",
        "ARIMA(1, 1, 1)x(1, 2, 0, 12)12 - AIC:300.4957600928522\n",
        "\n",
        "ARIMA(1, 1, 1)x(1, 2, 1, 12)12 - AIC:286.2126039361744\n",
        "\n",
        "ARIMA(1, 1, 1)x(2, 0, 0, 12)12 - AIC:331.740255110838\n",
        "\n",
        "ARIMA(1, 1, 1)x(2, 0, 1, 12)12 - AIC:333.46473592208514\n",
        "\n",
        "ARIMA(1, 1, 1)x(2, 0, 2, 12)12 - AIC:324.7832626860535\n",
        "\n",
        "ARIMA(1, 1, 1)x(2, 1, 0, 12)12 - AIC:262.4409992969335\n",
        "\n",
        "ARIMA(1, 1, 1)x(2, 1, 1, 12)12 - AIC:256.71390487682834\n",
        "\n",
        "ARIMA(1, 1, 1)x(2, 2, 0, 12)12 - AIC:206.26186908985358\n",
        "\n",
        "ARIMA(1, 1, 1)x(2, 2, 1, 12)12 - AIC:206.79066847021136\n",
        "\n",
        "ARIMA(1, 1, 2)x(0, 0, 0, 12)12 - AIC:459.6835652708871\n",
        "\n",
        "ARIMA(1, 1, 2)x(0, 0, 1, 12)12 - AIC:386.9565978957946\n",
        "\n",
        "ARIMA(1, 1, 2)x(0, 0, 2, 12)12 - AIC:3937.920519627023"
      ]
    },
    {
      "cell_type": "markdown",
      "metadata": {
        "id": "xpqinyd8OHBQ"
      },
      "source": [
        "By Observing the Lowest AIC , we come to Seasonality Order of (2,2,0)12 and non-seasonal component is (1,1,1) as derived earlier by correlograms.\n",
        "\n",
        "Seasonal Arima is used as we have seasonality component present.\n",
        "During Fall time period (July-Nov) the stock seems to rally on the news of product launch and product releases in that cycle of the year."
      ]
    },
    {
      "cell_type": "markdown",
      "metadata": {
        "id": "jViULTk7nt-e"
      },
      "source": [
        "# Back-Testing Training and Testing Data \n",
        "\n",
        "> Since we cannot use cross validation in our time series based datasets,as it can jumble the datasets during different folds.\n",
        "\n",
        "> This is not true of time series data, where the time dimension of observations means that we cannot randomly split them into groups. \n",
        "We can use backtesting method for time series.\n",
        "\n",
        "> In backtesting we can create multiple train-test splits keeping in mind the temporal order of our data during splits . For example if I have dataset between Jan to Dec \n",
        "\n",
        "Split - 1 : Train Data (Jan to Aug) + Test Data (Aug to Dec)\n",
        "\n",
        "Split - 2 : Train Data (Jan to Sept) + Test Data (Sept to Dec)\n",
        "\n",
        "Split - 3 : Train Daata (Jan to Oct) + Test Data (Oct to Dec) and so on ...\n",
        "We can have multiple splits in our dataset to validate our model rather than just one split like traditional train test splits .\n",
        "\n",
        "Reference : https://machinelearningmastery.com/backtest-machine-learning-models-time-series-forecasting/\n"
      ]
    },
    {
      "cell_type": "code",
      "execution_count": null,
      "metadata": {
        "colab": {
          "base_uri": "https://localhost:8080/",
          "height": 1000
        },
        "id": "p4mQ56L2oE3Y",
        "outputId": "bf992903-817d-4043-b7df-e1b1a2f297f0"
      },
      "outputs": [],
      "source": [
        "## Using TimeSeriesSplit from sklearn library\n",
        "## Citation : https://www.kaggle.com/tomwarrens/timeseriessplit-how-to-use-it\n",
        "\n",
        "pd.options.display.max_columns = 30\n",
        "plt.rcParams.update({'figure.max_open_warning': 0})\n",
        "plt.style.use('fivethirtyeight')\n",
        "cmap_data = plt.cm.Paired\n",
        "cmap_cv = plt.cm.coolwarm\n",
        "warnings.filterwarnings('ignore')\n",
        "\n",
        "cvs = [KFold, ShuffleSplit, StratifiedKFold, StratifiedShuffleSplit, TimeSeriesSplit]\n",
        "n_points = 100\n",
        "n_splits = 5\n",
        "X = np.random.randn(100, 10)\n",
        "percentiles_classes = [.1, .3, .6]\n",
        "y = np.hstack([[ii] * int(100 * perc) for ii, perc in enumerate(percentiles_classes)])\n",
        "\n",
        "# Function modified from https://scikit-learn.org/stable/modules/generated/sklearn.model_selection.TimeSeriesSplit.html\n",
        "\n",
        "def plot_cv_indices(cv, n_splits, X, y, date_col = None):\n",
        "    \"\"\"Create a sample plot for indices of a cross-validation object.\"\"\"\n",
        "    \n",
        "    fig, ax = plt.subplots(1, 1, figsize = (11, 7))\n",
        "    \n",
        "    # Generate the training/testing visualizations for each CV split\n",
        "    for ii, (tr, tt) in enumerate(cv.split(X=X, y=y)):\n",
        "        # Fill in indices with the training/test groups\n",
        "        indices = np.array([np.nan] * len(X))\n",
        "        indices[tt] = 1\n",
        "        indices[tr] = 0\n",
        "\n",
        "        # Visualize the results\n",
        "        ax.scatter(range(len(indices)), [ii + .5] * len(indices),\n",
        "                   c=indices, marker='_', lw=10, cmap=cmap_cv,\n",
        "                   vmin=-.2, vmax=1.2)\n",
        "\n",
        "\n",
        "    # Formatting\n",
        "    yticklabels = list(range(n_splits))\n",
        "    \n",
        "    if date_col is not None:\n",
        "        tick_locations  = ax.get_xticks()\n",
        "        tick_dates = [\" \"] + date_col.iloc[list(tick_locations[1:-1])].astype(str).tolist() + [\" \"]\n",
        "\n",
        "        tick_locations_str = [str(int(i)) for i in tick_locations]\n",
        "        new_labels = ['\\n\\n'.join(x) for x in zip(list(tick_locations_str), tick_dates) ]\n",
        "        ax.set_xticks(tick_locations)\n",
        "        ax.set_xticklabels(new_labels)\n",
        "    \n",
        "    ax.set(yticks=np.arange(n_splits+2) + .5, yticklabels=yticklabels,\n",
        "           xlabel='Sample index', ylabel=\"CV iteration\",\n",
        "           ylim=[n_splits+0.2, -.2])\n",
        "    ax.legend([Patch(color=cmap_cv(.8)), Patch(color=cmap_cv(.02))],\n",
        "              ['Testing set', 'Training set'], loc=(1.02, .8))\n",
        "    ax.set_title('{}'.format(type(cv).__name__), fontsize=15)\n",
        "    \n",
        "\n",
        "for i, cv in enumerate(cvs):\n",
        "    this_cv = cv(n_splits=n_splits)\n",
        "    plot_cv_indices(this_cv, n_splits, X, y, date_col=None)"
      ]
    },
    {
      "cell_type": "code",
      "execution_count": null,
      "metadata": {
        "colab": {
          "base_uri": "https://localhost:8080/",
          "height": 274
        },
        "id": "38wol4_RoMLu",
        "outputId": "dc183f64-dc28-446a-cd36-c8581626bb96"
      },
      "outputs": [],
      "source": [
        "## Using TimeSeriesSplit from sklearn library\n",
        "time_series_splits = TimeSeriesSplit(n_splits=4)\n",
        "X = modelling_series.values\n",
        "pyplot.figure(1)\n",
        "fig = plt.figure(figsize=(12, 12))\n",
        "\n",
        "index = 1\n",
        "for train_index, test_index in time_series_splits.split(X):\n",
        "\ttrain = X[train_index]\n",
        "\ttest = X[test_index]\n",
        "\tprint('Observations: %d' % (len(train) + len(test)))\n",
        "\tprint('Training Observations: %d' % (len(train)))\n",
        "\tprint('Testing Observations: %d' % (len(test)))\n",
        "    \n",
        "# \tpyplot.subplot(310 + index)\n",
        "# \tpyplot.plot(train)\n",
        "# \tpyplot.plot([None for i in train] + [x for x in test])\n",
        "#     # pyplot.title(''.format())\n",
        "# \tindex += 1\n",
        "# pyplot.show()"
      ]
    },
    {
      "cell_type": "markdown",
      "metadata": {
        "id": "fYxjvBHZniHF"
      },
      "source": [
        "![index.png](data:image/png;base64,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)"
      ]
    },
    {
      "cell_type": "markdown",
      "metadata": {
        "id": "_lp3u2oxntVU"
      },
      "source": [
        "Train and Test different pairs across time series."
      ]
    },
    {
      "cell_type": "code",
      "execution_count": null,
      "metadata": {
        "id": "Yi8CoPPmobYR"
      },
      "outputs": [],
      "source": [
        "train_list = {}\n",
        "test_list = {}\n",
        "time_series_splits = TimeSeriesSplit(n_splits=5)\n",
        "X = modelling_series.values\n",
        "\n",
        "index = 1\n",
        "for train_index, test_index in time_series_splits.split(X):\n",
        "    train = X[train_index]\n",
        "    test = X[test_index]\n",
        "    train_list[index] = train\n",
        "    test_list[index] = test\n",
        "    index += 1"
      ]
    },
    {
      "cell_type": "code",
      "execution_count": null,
      "metadata": {
        "id": "DSvYFF3HobdC"
      },
      "outputs": [],
      "source": [
        "def backtest_model(train,test):\n",
        "    model = sm.tsa.SARIMAX(train,order=(1,1,1),seasonal_order=(2,2,0,12))\n",
        "    results=model.fit()\n",
        "\n",
        "\n",
        "    # train_get_dates_beginning = '2012-01-31'\n",
        "    # train_get_dates_ending = str(modelling_series.index[len(train)].date())\n",
        "    # test_get_dates_beginning = train_get_dates_ending\n",
        "    # test_get_dates_ending = str(modelling_series.index[len(train)+len(test)].date())\n",
        "\n",
        "\n",
        "    # forecasts_train = results.predict(start=train_get_dates_beginning,end=train_get_dates_ending)\n",
        "    # forecasts_test = results.predict(start=test_get_dates_beginning,end=test_get_dates_ending)\n",
        "\n",
        "    forecasts_train = results.predict(start=0,end=len(train))\n",
        "    forecasts_test = results.predict(start=len(train),end=len(train)+len(test))\n",
        "\n",
        "\n",
        "    fig,(ax1,ax2) = plt.subplots(2,figsize=(18,10))\n",
        "\n",
        "    train = pd.DataFrame(train)\n",
        "    test = pd.DataFrame(test)\n",
        "\n",
        "    forecasts_train = pd.DataFrame(forecasts_train)\n",
        "    forecasts_test = pd.DataFrame(forecasts_test)\n",
        "\n",
        "    forecasts_train.plot(label='Forecasts',ax=ax1,title='SARIMA Forecasting -Train Data')\n",
        "    train.plot(label='Actual',ax=ax1)\n",
        "    ax1.set_ylabel('Stock Price')\n",
        "    ax1.set_xlabel('Time')\n",
        "\n",
        "\n",
        "    forecasts_test.plot(label='Forecasts',ax=ax2,title='SARIMA Forecasting -Test Data')\n",
        "    test.plot(label='Actual',ax=ax2)\n",
        "    ax2.set_ylabel('Stock Price')\n",
        "    ax2.set_xlabel('Time')\n",
        "\n",
        "\n",
        "    \n",
        "    \n",
        "\n",
        "    ax1.legend()\n",
        "    ax2.legend()\n",
        "    plt.tight_layout(pad=2)"
      ]
    },
    {
      "cell_type": "markdown",
      "metadata": {
        "id": "nn0PF_Gyl9Cq"
      },
      "source": [
        "# Backtest Set 1"
      ]
    },
    {
      "cell_type": "code",
      "execution_count": null,
      "metadata": {
        "colab": {
          "base_uri": "https://localhost:8080/",
          "height": 695
        },
        "id": "PB05_WNkqMhC",
        "outputId": "d7d84ba5-c99b-41c6-949a-7aefcb2d3f5a"
      },
      "outputs": [],
      "source": [
        "## Backtest Set-1\n",
        "backtest_model(train_list[2],test_list[2])"
      ]
    },
    {
      "cell_type": "markdown",
      "metadata": {
        "id": "R7tu8sbumFOt"
      },
      "source": [
        "# Backtest Set-2\n"
      ]
    },
    {
      "cell_type": "code",
      "execution_count": null,
      "metadata": {
        "colab": {
          "base_uri": "https://localhost:8080/",
          "height": 695
        },
        "id": "VNF-oKfXYNo2",
        "outputId": "0b9d6e7e-99b2-4d49-f776-9536c2943bba"
      },
      "outputs": [],
      "source": [
        "## Backtest Set-3\n",
        "backtest_model(train_list[4],test_list[4])"
      ]
    },
    {
      "cell_type": "markdown",
      "metadata": {
        "id": "6Y1naAjJmJDa"
      },
      "source": [
        "# Backtest Set-3"
      ]
    },
    {
      "cell_type": "code",
      "execution_count": null,
      "metadata": {
        "colab": {
          "base_uri": "https://localhost:8080/",
          "height": 695
        },
        "id": "aoN9wql3Y0tD",
        "outputId": "2bc6427c-c7ae-4998-d4a5-183986190e50"
      },
      "outputs": [],
      "source": [
        "## Backtest Set-4\n",
        "backtest_model(train_list[5],test_list[5])"
      ]
    },
    {
      "cell_type": "markdown",
      "metadata": {
        "id": "6K5nL0gRrBHl"
      },
      "source": [
        "By using backtesting we can validate our model on multiple train-test splits.\n",
        "Red is the training set and blue indicates test set."
      ]
    },
    {
      "cell_type": "markdown",
      "metadata": {
        "id": "wSIM6mmFvrmH"
      },
      "source": [
        "# Forecasting Seasonal ARIMA"
      ]
    },
    {
      "cell_type": "code",
      "execution_count": null,
      "metadata": {
        "id": "m3oBLGREkY0m"
      },
      "outputs": [],
      "source": [
        "model = sm.tsa.SARIMAX(train,order=(1,1,1),seasonal_order=(2,2,0,12))\n",
        "results=model.fit()\n",
        "forecasts_train = results.predict(start='2012-01-31',end='2016-09-30')\n",
        "forecasts_test = results.predict(start='2016-10-31',end='2019-12-31')"
      ]
    },
    {
      "cell_type": "code",
      "execution_count": null,
      "metadata": {
        "id": "6LI18XGabjzg"
      },
      "outputs": [],
      "source": [
        "##Function to Calculate Result Metrics\n",
        "def result_metrics(test_series,forecast_series,model_name):\n",
        "  print('Result Metrics for {}'.format(model_name))\n",
        "  print('R2 Score : ',round(r2_score(test_series,forecast_series),3))\n",
        "  print('Mean Squared Error : ',round(mean_squared_error(test_series,forecast_series),3))\n",
        "  print('Mean Absolute Error : ',round(mean_absolute_error(test_series,forecast_series),3))"
      ]
    },
    {
      "cell_type": "code",
      "execution_count": null,
      "metadata": {
        "colab": {
          "base_uri": "https://localhost:8080/",
          "height": 695
        },
        "id": "lNginJqZDxRI",
        "outputId": "2d428d3a-1f76-4319-ee13-63e6f9216ed9"
      },
      "outputs": [],
      "source": [
        "fig,(ax1,ax2) = plt.subplots(2,figsize=(18,10))\n",
        "\n",
        "forecasts_train.plot(label='Forecasts',ax=ax1,title='SARIMA Forecasting -Train Data')\n",
        "train.plot(label='Actual',ax=ax1)\n",
        "ax1.set_ylabel('Stock Price')\n",
        "\n",
        "forecasts_test.plot(label='Forecasts',ax=ax2,title='SARIMA Forecasting -Test Data')\n",
        "test.plot(label='Actual',ax=ax2)\n",
        "ax2.set_ylabel('Stock Price')\n",
        "\n",
        "ax1.legend()\n",
        "ax2.legend()\n",
        "plt.tight_layout(pad=2)"
      ]
    },
    {
      "cell_type": "code",
      "execution_count": null,
      "metadata": {
        "colab": {
          "base_uri": "https://localhost:8080/",
          "height": 290
        },
        "id": "UgRm1s9-i_us",
        "outputId": "b700063f-7952-49ab-bbfa-758e58840dd3"
      },
      "outputs": [],
      "source": [
        "print(result_metrics(train,forecasts_train,'SARIMA-Train Data'))\n",
        "print('----')\n",
        "print(result_metrics(test,forecasts_test,'SARIMA-Test Data'))\n"
      ]
    },
    {
      "cell_type": "markdown",
      "metadata": {
        "id": "KgZX7FRMPFD8"
      },
      "source": [
        "Training and Test Accuracy is equivalent .\n",
        "Model Fit is good , no overfit or underfit."
      ]
    },
    {
      "cell_type": "code",
      "execution_count": null,
      "metadata": {
        "colab": {
          "base_uri": "https://localhost:8080/",
          "height": 504
        },
        "id": "FqUEx1FRkY9x",
        "outputId": "42f06b32-37f9-4f68-c1b0-9c404e87b79f"
      },
      "outputs": [],
      "source": [
        "print(results.summary())"
      ]
    },
    {
      "cell_type": "code",
      "execution_count": null,
      "metadata": {
        "colab": {
          "base_uri": "https://localhost:8080/",
          "height": 1000
        },
        "id": "J9t9xPhcqSUi",
        "outputId": "bd831905-d692-4079-84fc-926e7b06f819"
      },
      "outputs": [],
      "source": [
        "##Checking Model Diagnotics on Training Data\n",
        "results.plot_diagnostics(figsize=(16, 16))\n",
        "plt.show()"
      ]
    },
    {
      "cell_type": "markdown",
      "metadata": {
        "id": "2iJFaOWetaV6"
      },
      "source": [
        "Inference from Residual Analysis :-\n",
        "\n",
        "->We observe that the residual plot kind of follows stationarity.\n",
        "\n",
        "->The Distribution of Training Data residuals is showing almost Normal Distribution.\n",
        "\n",
        "->The QQPlot points towards Normal Distribution\n",
        "\n",
        "->Correlogram shows no relation -which indicates they are un-correlated.\n",
        "\n",
        "Overall the model is captured the Stock Price in a good manner."
      ]
    },
    {
      "cell_type": "markdown",
      "metadata": {
        "id": "7ckXsA85DCAI"
      },
      "source": [
        "# Residual Analysis Test Data\n",
        "\n",
        "\n"
      ]
    },
    {
      "cell_type": "code",
      "execution_count": null,
      "metadata": {
        "id": "_NyOOKyU7jh8"
      },
      "outputs": [],
      "source": [
        "residuals_test = test-forecasts_test"
      ]
    },
    {
      "cell_type": "code",
      "execution_count": null,
      "metadata": {
        "colab": {
          "base_uri": "https://localhost:8080/",
          "height": 741
        },
        "id": "RRKVLEW6W4S2",
        "outputId": "9dce09ca-d5a5-4e4e-b501-39d757d76406"
      },
      "outputs": [],
      "source": [
        "fig,(ax1,ax2) = plt.subplots(2,figsize=(18,10))\n",
        "\n",
        "\n",
        "residuals_test.plot(label='Residuals',ax=ax1,title='Stationarity Check Plot')\n",
        "residuals_test.rolling(7).mean().plot(label='Rolling Mean',c='orange',ax=ax1)\n",
        "residuals_test.rolling(7).std().plot(label='Rolling STD',c='yellow',ax=ax1)\n",
        "\n",
        "qq_plot = qq(residuals_test,line='s',ax=ax2)\n",
        "ax2.set_title('QQ Plot Residuals')\n",
        "ax1.legend()\n",
        "ax2.legend()\n",
        "plt.tight_layout(pad=1)\n"
      ]
    },
    {
      "cell_type": "code",
      "execution_count": null,
      "metadata": {
        "colab": {
          "base_uri": "https://localhost:8080/",
          "height": 652
        },
        "id": "Iq95DyB2Y2iw",
        "outputId": "856e4c34-91f0-4286-f7c5-0926af68eafc"
      },
      "outputs": [],
      "source": [
        "fig,(ax1,ax2) = plt.subplots(2,figsize=(18,10))\n",
        "\n",
        "residuals_test.plot(kind='kde',ax=ax1,title='Distribution Residuals')\n",
        "\n",
        "acf = plot_acf(residuals_test,ax=ax2,title='Autocorrelation Plot Residuals')"
      ]
    },
    {
      "cell_type": "code",
      "execution_count": null,
      "metadata": {
        "colab": {
          "base_uri": "https://localhost:8080/",
          "height": 181
        },
        "id": "ZoRjijjBW4QM",
        "outputId": "6d3f107f-b134-4439-9b35-12d75b86affe"
      },
      "outputs": [],
      "source": [
        "residuals_test.describe()"
      ]
    },
    {
      "cell_type": "code",
      "execution_count": null,
      "metadata": {
        "id": "DVZUO2QlbaGe"
      },
      "outputs": [],
      "source": [
        "train_list = {}\n",
        "test_list = {}\n",
        "time_series_splits = TimeSeriesSplit(n_splits=4)\n",
        "X = modelling_series.values\n",
        "\n",
        "index = 1\n",
        "for train_index, test_index in time_series_splits.split(X):\n",
        "    train = X[train_index]\n",
        "    test = X[test_index]\n",
        "    train_list[index] = train\n",
        "    test_list[index] = test\n",
        "    index += 1"
      ]
    },
    {
      "cell_type": "code",
      "execution_count": null,
      "metadata": {
        "colab": {
          "base_uri": "https://localhost:8080/"
        },
        "id": "HG0bs-_h_jDG",
        "outputId": "56cf6776-25db-4a84-b459-b149c69d737e"
      },
      "outputs": [],
      "source": [
        "modelling_series"
      ]
    },
    {
      "cell_type": "code",
      "execution_count": null,
      "metadata": {
        "colab": {
          "base_uri": "https://localhost:8080/"
        },
        "id": "BqmERwKP9H9o",
        "outputId": "67ea2821-bb73-45c8-dd26-697f865364fc"
      },
      "outputs": [],
      "source": [
        "train_list[1]"
      ]
    },
    {
      "cell_type": "code",
      "execution_count": null,
      "metadata": {
        "id": "SL9crBGhL3cV"
      },
      "outputs": [],
      "source": []
    },
    {
      "cell_type": "code",
      "execution_count": null,
      "metadata": {
        "id": "JU_sVOnp9IGw"
      },
      "outputs": [],
      "source": [
        "def backtest_model(train,test):\n",
        "    model = sm.tsa.SARIMAX(train,order=(1,1,1),seasonal_order=(2,2,0,12))\n",
        "    results=model.fit()\n",
        "\n",
        "\n",
        "    # train_get_dates_beginning = '2012-01-31'\n",
        "    # train_get_dates_ending = str(modelling_series.index[len(train)].date())\n",
        "    # test_get_dates_beginning = train_get_dates_ending\n",
        "    # test_get_dates_ending = str(modelling_series.index[len(train)+len(test)].date())\n",
        "\n",
        "\n",
        "    # forecasts_train = results.predict(start=train_get_dates_beginning,end=train_get_dates_ending)\n",
        "    # forecasts_test = results.predict(start=test_get_dates_beginning,end=test_get_dates_ending)\n",
        "\n",
        "    forecasts_train = results.predict(start=0,end=len(train))\n",
        "    forecasts_test = results.predict(start=len(train),end=len(train)+len(test))\n",
        "\n",
        "\n",
        "    fig,(ax1,ax2) = plt.subplots(2,figsize=(18,10))\n",
        "\n",
        "    train = pd.DataFrame(train)\n",
        "    test = pd.DataFrame(test)\n",
        "\n",
        "    forecasts_train = pd.DataFrame(forecasts_train)\n",
        "    forecasts_test = pd.DataFrame(forecasts_test)\n",
        "\n",
        "    forecasts_train.plot(label='Forecasts',ax=ax1,title='SARIMA Forecasting -Train Data')\n",
        "    train.plot(label='Actual',ax=ax1)\n",
        "    ax1.set_ylabel('Stock Price')\n",
        "\n",
        "    forecasts_test.plot(label='Forecasts',ax=ax2,title='SARIMA Forecasting -Test Data')\n",
        "    test.plot(label='Actual',ax=ax2)\n",
        "    ax2.set_ylabel('Stock Price')\n",
        "\n",
        "    ax1.legend()\n",
        "    ax2.legend()\n",
        "    plt.tight_layout(pad=2)"
      ]
    },
    {
      "cell_type": "code",
      "execution_count": null,
      "metadata": {
        "colab": {
          "base_uri": "https://localhost:8080/",
          "height": 1000
        },
        "id": "4J02IxvPKYHl",
        "outputId": "06a9c2f7-5c5c-433a-e7a4-65a220b202a8"
      },
      "outputs": [],
      "source": [
        "## Backtest Set-1\n",
        "backtest_model(train_list[1],test_list[1])"
      ]
    },
    {
      "cell_type": "code",
      "execution_count": null,
      "metadata": {
        "colab": {
          "base_uri": "https://localhost:8080/",
          "height": 1000
        },
        "id": "Zoce0AcAdrvE",
        "outputId": "cade34d5-0d01-4efc-86cc-8d52bda625cb"
      },
      "outputs": [],
      "source": [
        "backtest_model(train_list[2],test_list[2])"
      ]
    },
    {
      "cell_type": "code",
      "execution_count": null,
      "metadata": {
        "colab": {
          "base_uri": "https://localhost:8080/",
          "height": 1000
        },
        "id": "gQloD7zOdyXj",
        "outputId": "63a0efdc-f059-4181-b305-ef8689bf5273"
      },
      "outputs": [],
      "source": [
        "backtest_model(train_list[3],test_list[3])"
      ]
    },
    {
      "cell_type": "code",
      "execution_count": null,
      "metadata": {
        "colab": {
          "base_uri": "https://localhost:8080/",
          "height": 81
        },
        "id": "KI9A2XyQLyiv",
        "outputId": "6efe0ba7-9cee-4ab2-f179-060a7cb41aed"
      },
      "outputs": [],
      "source": [
        "forecasts_train"
      ]
    },
    {
      "cell_type": "code",
      "execution_count": null,
      "metadata": {
        "id": "5rFCEsi6baII"
      },
      "outputs": [],
      "source": [
        "fig,(ax1,ax2) = plt.subplots(2,figsize=(18,10))\n",
        "\n",
        "forecasts_train.plot(label='Forecasts',ax=ax1,title='SARIMA Forecasting -Train Data')\n",
        "train.plot(label='Actual',ax=ax1)\n",
        "ax1.set_ylabel('Stock Price')\n",
        "\n",
        "forecasts_test.plot(label='Forecasts',ax=ax2,title='SARIMA Forecasting -Test Data')\n",
        "test.plot(label='Actual',ax=ax2)\n",
        "ax2.set_ylabel('Stock Price')\n",
        "\n",
        "ax1.legend()\n",
        "ax2.legend()\n",
        "plt.tight_layout(pad=2)"
      ]
    },
    {
      "cell_type": "markdown",
      "metadata": {
        "id": "MZnSW9g3RaHy"
      },
      "source": [
        "**Seasonal ARIMA-Verdict**\n",
        "\n",
        "The mean value is close to zero but it suggests that there is some bias in the model.\n",
        "Overall the model has performed good for a problem like Stock Price Prediction being a difficult problem .\n",
        "\n"
      ]
    },
    {
      "cell_type": "markdown",
      "metadata": {
        "id": "ymMta_C7dsOv"
      },
      "source": [
        "# **Facebook's Prophet Model for Time Series**"
      ]
    },
    {
      "cell_type": "code",
      "execution_count": null,
      "metadata": {
        "colab": {
          "base_uri": "https://localhost:8080/",
          "height": 455
        },
        "id": "jimikIHfP1M7",
        "outputId": "81ba9325-2172-47e9-e9eb-7a55bce0a8d6"
      },
      "outputs": [],
      "source": [
        "##Getting Data Ready for the Model\n",
        "prophet_data = monthly_data\n",
        "prophet_data['Date'] = prophet_data.index\n",
        "prophet_data"
      ]
    },
    {
      "cell_type": "code",
      "execution_count": null,
      "metadata": {
        "id": "wjwEHNUEP1Jg"
      },
      "outputs": [],
      "source": [
        "prophet_data.drop(labels=['Year','Month'],axis=1,inplace=True)"
      ]
    },
    {
      "cell_type": "code",
      "execution_count": null,
      "metadata": {
        "id": "mWkd4N2IRN3r"
      },
      "outputs": [],
      "source": [
        "prophet_data = prophet_data.reindex(columns=['Date','Adj Close'])"
      ]
    },
    {
      "cell_type": "code",
      "execution_count": null,
      "metadata": {
        "id": "TFwxIEfnR9f8"
      },
      "outputs": [],
      "source": [
        "##Prophet needs two columns in form of ds and y being Date and series\n",
        "prophet_data.rename(columns={'Date':'ds',\n",
        "                   'Adj Close':'y'},inplace=True)"
      ]
    },
    {
      "cell_type": "code",
      "execution_count": null,
      "metadata": {
        "colab": {
          "base_uri": "https://localhost:8080/",
          "height": 455
        },
        "id": "g8qeCzZ-Ss8J",
        "outputId": "eec22e77-2209-4400-d25a-ccb71ab17047"
      },
      "outputs": [],
      "source": [
        "prophet_data"
      ]
    },
    {
      "cell_type": "code",
      "execution_count": null,
      "metadata": {
        "colab": {
          "base_uri": "https://localhost:8080/",
          "height": 53
        },
        "id": "nVopO8EsR_nA",
        "outputId": "f027b86f-9dc4-45e0-f72a-cca83472cf17"
      },
      "outputs": [],
      "source": [
        "##Spliting Train Test \n",
        "prophet_train,prophet_test = split(prophet_data,train_size=0.6,shuffle=False)\n",
        "print('Training Data Size :',len(prophet_train))\n",
        "print('Testing Data Size :',len(prophet_test))"
      ]
    },
    {
      "cell_type": "code",
      "execution_count": null,
      "metadata": {
        "colab": {
          "base_uri": "https://localhost:8080/",
          "height": 72
        },
        "id": "xaUT0eFvP1HA",
        "outputId": "4ee707c8-336a-4dd6-93fa-f66d84c8cde6"
      },
      "outputs": [],
      "source": [
        "##Model Fitting Basic Model\n",
        "prophet_model = Prophet(yearly_seasonality=True)\n",
        "prophet_model.fit(prophet_train)"
      ]
    },
    {
      "cell_type": "code",
      "execution_count": null,
      "metadata": {
        "id": "O6ueoVO65X4R"
      },
      "outputs": [],
      "source": [
        "future= prophet_model.make_future_dataframe(periods=39,freq='M')"
      ]
    },
    {
      "cell_type": "code",
      "execution_count": null,
      "metadata": {
        "colab": {
          "base_uri": "https://localhost:8080/",
          "height": 424
        },
        "id": "30xKasFn5X0e",
        "outputId": "e6ace488-8d9a-4101-90ee-0ed19509f0cd"
      },
      "outputs": [],
      "source": [
        "future"
      ]
    },
    {
      "cell_type": "markdown",
      "metadata": {
        "id": "cd56EijFCSNw"
      },
      "source": [
        "Forecasting Prophet-Basic Model"
      ]
    },
    {
      "cell_type": "code",
      "execution_count": null,
      "metadata": {
        "id": "xudMjwAVTAOv"
      },
      "outputs": [],
      "source": [
        "##Predicting Using Prophet\n",
        "forecast=prophet_model.predict(future)\n",
        "forecast.index = prophet_data['y'].index\n"
      ]
    },
    {
      "cell_type": "code",
      "execution_count": null,
      "metadata": {
        "colab": {
          "base_uri": "https://localhost:8080/",
          "height": 455
        },
        "id": "R48YWYljmF3p",
        "outputId": "c3cf075a-758a-4e88-e58f-5fa717347921"
      },
      "outputs": [],
      "source": [
        "prophet_df = pd.concat([forecast['yhat'],prophet_data['y']],axis=1,ignore_index=True)\n",
        "prophet_df.columns = ['Predicted','Actual']\n",
        "prophet_df"
      ]
    },
    {
      "cell_type": "code",
      "execution_count": null,
      "metadata": {
        "colab": {
          "base_uri": "https://localhost:8080/",
          "height": 692
        },
        "id": "okQsl3MpoB23",
        "outputId": "39e84517-9f31-46f5-f50b-c1516202ad13"
      },
      "outputs": [],
      "source": [
        "fig = plt.figure(figsize=(12,10))\n",
        "prophet_df['Predicted'][:57].plot(label='Predicted')\n",
        "prophet_df['Actual'][:57].plot(label='Actual')\n",
        "plt.title('Prophet Basic Model- Forecasting -Train Data')\n",
        "plt.ylabel('Stock Price')\n",
        "plt.legend()"
      ]
    },
    {
      "cell_type": "code",
      "execution_count": null,
      "metadata": {
        "colab": {
          "base_uri": "https://localhost:8080/",
          "height": 707
        },
        "id": "dGsH6QPG0dff",
        "outputId": "9086fea3-5fa3-415d-b66e-eade70796c94"
      },
      "outputs": [],
      "source": [
        "fig = plt.figure(figsize=(12,10))\n",
        "prophet_df['Predicted'][57:].plot(label='Predicted')\n",
        "prophet_df['Actual'][57:].plot(label='Actual')\n",
        "plt.title('Prophet Basic Model- Forecasting -Test Data')\n",
        "plt.ylabel('Stock Price')\n",
        "plt.legend()"
      ]
    },
    {
      "cell_type": "code",
      "execution_count": null,
      "metadata": {
        "colab": {
          "base_uri": "https://localhost:8080/",
          "height": 144
        },
        "id": "YKqf-_H6jmr-",
        "outputId": "723cc95c-a4a8-46da-cf8c-83c895080256"
      },
      "outputs": [],
      "source": [
        "print(result_metrics(prophet_df['Actual'][:57],prophet_df['Predicted'][:57],'Prophet Basic-Train Data'))"
      ]
    },
    {
      "cell_type": "code",
      "execution_count": null,
      "metadata": {
        "colab": {
          "base_uri": "https://localhost:8080/",
          "height": 144
        },
        "id": "Hnw3yHPl09XY",
        "outputId": "1bd5a8cb-d25c-4209-d15b-2100bbba7559"
      },
      "outputs": [],
      "source": [
        "print(result_metrics(prophet_df['Actual'][57:],prophet_df['Predicted'][57:],'Prophet Basic-Test Data'))"
      ]
    },
    {
      "cell_type": "markdown",
      "metadata": {
        "id": "sOVB19Y0SUMm"
      },
      "source": [
        "The Basic Prophet Model with default parameters overfits into the model as represented by the Train Test Accuracy differences."
      ]
    },
    {
      "cell_type": "code",
      "execution_count": null,
      "metadata": {
        "colab": {
          "base_uri": "https://localhost:8080/",
          "height": 433
        },
        "id": "Xayz6DJXo5B_",
        "outputId": "8d755f7a-2b35-4c2e-cda9-3ce7c3f352bb"
      },
      "outputs": [],
      "source": [
        "fig = prophet_model.plot_components(forecast)"
      ]
    },
    {
      "cell_type": "code",
      "execution_count": null,
      "metadata": {
        "colab": {
          "base_uri": "https://localhost:8080/",
          "height": 126
        },
        "id": "pe1Oi_FUvDVk",
        "outputId": "fd226b37-dcbb-4503-97e5-9f78684574c5"
      },
      "outputs": [],
      "source": [
        "print('Head',prophet_test.head(1))\n",
        "print('Tail',prophet_test.tail(1))"
      ]
    },
    {
      "cell_type": "markdown",
      "metadata": {
        "id": "FEbLGDtvojzI"
      },
      "source": [
        "Seasonal-ARIMA seems to have captured the model in a better way.\n"
      ]
    },
    {
      "cell_type": "markdown",
      "metadata": {
        "id": "rUq97xiiStGr"
      },
      "source": [
        "**Hyper-Tuning for Prophet Model**"
      ]
    },
    {
      "cell_type": "code",
      "execution_count": null,
      "metadata": {
        "colab": {
          "base_uri": "https://localhost:8080/",
          "height": 35
        },
        "id": "o83-nRnGxoVp",
        "outputId": "87210c14-db2a-4d90-db4c-ae1f28eae546"
      },
      "outputs": [],
      "source": [
        "from sklearn.model_selection import ParameterGrid\n",
        "params_grid = {'seasonality_mode':('multiplicative','additive'),\n",
        "               'changepoint_prior_scale':[0.3,0.4],\n",
        "              'holidays_prior_scale':[0.3,0.4],\n",
        "              'n_changepoints' : [20,50]}\n",
        "grid = ParameterGrid(params_grid)\n",
        "cnt = 0\n",
        "for p in grid:\n",
        "    cnt = cnt+1\n",
        "\n",
        "print('Total Possible Models',cnt)"
      ]
    },
    {
      "cell_type": "code",
      "execution_count": null,
      "metadata": {
        "id": "sPmusI6Gw0mK"
      },
      "outputs": [],
      "source": [
        "df = prophet_data "
      ]
    },
    {
      "cell_type": "code",
      "execution_count": null,
      "metadata": {
        "id": "teNcqV7CrN5q"
      },
      "outputs": [],
      "source": [
        "prophet_train_hyper,prophet_test_hyper = split(prophet_data,train_size=0.7,shuffle=False)"
      ]
    },
    {
      "cell_type": "code",
      "execution_count": null,
      "metadata": {
        "colab": {
          "base_uri": "https://localhost:8080/",
          "height": 237
        },
        "id": "d7AVh9xsxzqV",
        "outputId": "c040b8cc-6d02-4ea9-a56a-821228bbfafb"
      },
      "outputs": [],
      "source": [
        "prophet_test_hyper.head(5)"
      ]
    },
    {
      "cell_type": "code",
      "execution_count": null,
      "metadata": {
        "colab": {
          "base_uri": "https://localhost:8080/",
          "height": 35
        },
        "id": "-ivYIA3QrZxi",
        "outputId": "2ec9a8ce-2ed0-442b-f83f-94a9ab597398"
      },
      "outputs": [],
      "source": [
        "len(prophet_test_hyper)"
      ]
    },
    {
      "cell_type": "code",
      "execution_count": null,
      "metadata": {
        "colab": {
          "base_uri": "https://localhost:8080/",
          "height": 616
        },
        "id": "DSw9Z8McqNq7",
        "outputId": "7e7211df-994c-4ef6-961a-468fef74c3d4"
      },
      "outputs": [],
      "source": [
        "strt='2017-08-31'\n",
        "end='2019-12-31'\n",
        "model_parameters = pd.DataFrame(columns = ['MAPE','Parameters'])\n",
        "for i in grid:\n",
        "    test = pd.DataFrame()\n",
        "    print(i)\n",
        "    \n",
        "    train_model =Prophet(changepoint_prior_scale = i['changepoint_prior_scale'],\n",
        "                         holidays_prior_scale = i['holidays_prior_scale'],\n",
        "                         n_changepoints = i['n_changepoints'],\n",
        "                         seasonality_mode = i['seasonality_mode'],\n",
        "                         weekly_seasonality=False,\n",
        "                         daily_seasonality = False,\n",
        "                         yearly_seasonality = True,\n",
        "                         )\n",
        "    \n",
        "    train_model.fit(prophet_train_hyper)\n",
        "    train_forecast = train_model.make_future_dataframe(periods=29, freq='M',include_history = False)\n",
        "    train_forecast = train_model.predict(train_forecast)\n",
        "    test=train_forecast[['ds','yhat']]\n",
        "    Actual = df[(df['ds']>=strt) & (df['ds']<=end)]\n",
        "    MAPE = mean_absolute_percentage_error(Actual['y'],abs(test['yhat']))\n",
        "    print('Mean Absolute Percentage Error(MAPE)---------------------------------------------------------',MAPE)\n",
        "    model_parameters = model_parameters.append({'MAPE':MAPE,'Parameters':p},ignore_index=True)"
      ]
    },
    {
      "cell_type": "code",
      "execution_count": null,
      "metadata": {
        "colab": {
          "base_uri": "https://localhost:8080/",
          "height": 143
        },
        "id": "ctEKwPxD-jxi",
        "outputId": "99ae8a06-8855-41db-d62c-387139d6add4"
      },
      "outputs": [],
      "source": [
        "parameters = model_parameters.sort_values(by=['MAPE'])\n",
        "parameters = parameters.reset_index(drop=True)\n",
        "parameters.head(3)"
      ]
    },
    {
      "cell_type": "code",
      "execution_count": null,
      "metadata": {
        "colab": {
          "base_uri": "https://localhost:8080/",
          "height": 92
        },
        "id": "gJ2qy9YQ-j8Q",
        "outputId": "d59f7a82-d454-4e69-986d-e1393e7b096f"
      },
      "outputs": [],
      "source": [
        "parameters['Parameters'][0]"
      ]
    },
    {
      "cell_type": "markdown",
      "metadata": {
        "id": "1fQQagM0Wicl"
      },
      "source": [
        "Problem with Prophet is its Overfits quite easily for out dataset.\n",
        "Therefore we try some other hyperparamters with Hit and Trial"
      ]
    },
    {
      "cell_type": "code",
      "execution_count": null,
      "metadata": {
        "colab": {
          "base_uri": "https://localhost:8080/",
          "height": 53
        },
        "id": "8Kn7ecWq-kUr",
        "outputId": "0ea170a3-e507-4bef-e8bf-94aed7e29be5"
      },
      "outputs": [],
      "source": [
        "prophet_tuned_model = Prophet(\n",
        "                      growth='linear',\n",
        "                      changepoint_prior_scale= 0.001,\n",
        "                      holidays_prior_scale = 0.02,\n",
        "                      seasonality_prior_scale=0.3,\n",
        "                      \n",
        "                      seasonality_mode = 'additive',\n",
        "                      weekly_seasonality=False,\n",
        "                      daily_seasonality = False,\n",
        "                      yearly_seasonality = True,\n",
        "                      changepoints=['2017-07-31']\n",
        "                      )\n",
        "prophet_tuned_model.add_country_holidays(country_name='US')\n",
        "prophet_tuned_model.add_seasonality(name='monthly', period=30.5, fourier_order=5, prior_scale=0.02)\n",
        "prophet_tuned_model.add_seasonality(name='yearly', period=365, fourier_order=20)\n",
        "prophet_tuned_model.add_country_holidays(country_name='US')\n",
        "prophet_tuned_model.fit(prophet_train_hyper)"
      ]
    },
    {
      "cell_type": "code",
      "execution_count": null,
      "metadata": {
        "id": "Fd_nIK3_-j5n"
      },
      "outputs": [],
      "source": [
        "future_hyper= prophet_tuned_model.make_future_dataframe(periods=29,freq='M')"
      ]
    },
    {
      "cell_type": "code",
      "execution_count": null,
      "metadata": {
        "id": "MlOEO3p0ARic"
      },
      "outputs": [],
      "source": [
        "future_hyper=prophet_tuned_model.predict(future_hyper)"
      ]
    },
    {
      "cell_type": "code",
      "execution_count": null,
      "metadata": {
        "id": "yRcTipZXARf7"
      },
      "outputs": [],
      "source": [
        "future_hyper.index = prophet_data['y'].index"
      ]
    },
    {
      "cell_type": "code",
      "execution_count": null,
      "metadata": {
        "id": "TPNStcV4ARbs"
      },
      "outputs": [],
      "source": [
        "prophet_hyper_df = pd.concat([future_hyper['yhat'],prophet_data['y']],axis=1,ignore_index=True)"
      ]
    },
    {
      "cell_type": "code",
      "execution_count": null,
      "metadata": {
        "colab": {
          "base_uri": "https://localhost:8080/",
          "height": 175
        },
        "id": "19YR8onrA6Y1",
        "outputId": "e3a55f74-9949-40d6-e6f9-593964b22c4c"
      },
      "outputs": [],
      "source": [
        "prophet_hyper_df.columns = ['Predicted','Actual']\n",
        "prophet_hyper_df.tail(3)"
      ]
    },
    {
      "cell_type": "code",
      "execution_count": null,
      "metadata": {
        "colab": {
          "base_uri": "https://localhost:8080/",
          "height": 692
        },
        "id": "ya67c25vJ7hZ",
        "outputId": "2a1a7b8e-4860-40ca-8284-a57f71031e32"
      },
      "outputs": [],
      "source": [
        "fig = plt.figure(figsize=(12,10))\n",
        "prophet_hyper_df['Predicted'][:57].plot(label='Predicted')\n",
        "prophet_hyper_df['Actual'][:57].plot(label='Actual')\n",
        "plt.title('Prophet Hyper Param Tuned- Forecasting -Train Data')\n",
        "plt.ylabel('Stock Price')\n",
        "plt.legend()"
      ]
    },
    {
      "cell_type": "code",
      "execution_count": null,
      "metadata": {
        "colab": {
          "base_uri": "https://localhost:8080/",
          "height": 707
        },
        "id": "nFP0jOSjJ7pk",
        "outputId": "c0fceeaa-976d-4ff2-af43-b95cc50f5b81"
      },
      "outputs": [],
      "source": [
        "fig = plt.figure(figsize=(12,10))\n",
        "prophet_hyper_df['Predicted'][57:].plot(label='Predicted')\n",
        "prophet_hyper_df['Actual'][57:].plot(label='Actual')\n",
        "plt.title('Prophet Hyper Param Tuned- Forecasting -Test Data')\n",
        "plt.ylabel('Stock Price')\n",
        "plt.legend()"
      ]
    },
    {
      "cell_type": "code",
      "execution_count": null,
      "metadata": {
        "colab": {
          "base_uri": "https://localhost:8080/",
          "height": 126
        },
        "id": "9lviizvpA6oP",
        "outputId": "b6213c8a-a3b7-4ae6-fdd3-74bf85137b05"
      },
      "outputs": [],
      "source": [
        "result_metrics(prophet_hyper_df['Actual'][:67],prophet_hyper_df['Predicted'][:67],'Hyper-Tuned Prophet Train Data')"
      ]
    },
    {
      "cell_type": "code",
      "execution_count": null,
      "metadata": {
        "colab": {
          "base_uri": "https://localhost:8080/",
          "height": 126
        },
        "id": "FyBfbaA-A6j9",
        "outputId": "a86d4f89-86d7-4690-fe03-5b723beec330"
      },
      "outputs": [],
      "source": [
        "result_metrics(prophet_hyper_df['Actual'][67:],prophet_hyper_df['Predicted'][67:],'Hyper-Tuned Prophet Test Data')"
      ]
    },
    {
      "cell_type": "markdown",
      "metadata": {
        "id": "4HmUzUGE_pvn"
      },
      "source": [
        "After Hyper-parameter tuning the model is not able to capture the seasonality and sudden jump in time series in the Year 2017 onwards.\n",
        "\n",
        "->Prophet is easily overfitted.\n",
        "\n",
        "->Seasonal ARIMA is superior to Prophet\n",
        "\n",
        "->Prophet is good at capturing the trend.\n",
        "\n",
        "->By creating Extra Regressors we can maybe improve the Results in future projects.\n",
        "\n",
        "\n"
      ]
    },
    {
      "cell_type": "markdown",
      "metadata": {
        "id": "fsrAlYp2Yncp"
      },
      "source": [
        "**Project Summary**\n",
        "\n",
        "Seasonal ARIMA Vs Facebook's Prophet\n",
        "\n",
        "->Advantages of Prophet includes very easy to implement, fast , and less statistical know-how model . In Seasonal ARIMA we had to follow lot of tests and process to generate predictions.\n",
        "\n",
        "->Seasonal ARIMA is better at capturing the seasonality part .\n",
        "\n",
        "->Prophet has a overfitting problem .\n",
        "\n",
        "->Overall Both models are robust .\n",
        "\n",
        "->Prophet is better at dealing with outliers.\n",
        "\n",
        "->We have found Seasonal ARIMA is much better our at prediction problem.\n",
        "More confidence when predicting with Seasonal-ARIMA since its backed by Mathematical and Statistical tests.\n",
        "\n",
        "->Accuracy of SARIMA is 89% and 80% for Prophet(Both on Out of Sample Data)\n",
        "\n",
        "\n"
      ]
    },
    {
      "cell_type": "markdown",
      "metadata": {
        "id": "dOPo5iAiMHN2"
      },
      "source": [
        "# Actionable Insight \n",
        "Observing the Trend given by Both Models.\n",
        "\n",
        "**AAPL IS A BUY.**"
      ]
    }
  ],
  "metadata": {
    "colab": {
      "collapsed_sections": [],
      "include_colab_link": true,
      "name": "Time Series Analysis &  Forecasting of Apple Stock Price .ipynb",
      "provenance": []
    },
    "kernelspec": {
      "display_name": "Python 3",
      "name": "python3"
    },
    "language_info": {
      "codemirror_mode": {
        "name": "ipython",
        "version": 3
      },
      "file_extension": ".py",
      "mimetype": "text/x-python",
      "name": "python",
      "nbconvert_exporter": "python",
      "pygments_lexer": "ipython3",
      "version": "3.12.1"
    }
  },
  "nbformat": 4,
  "nbformat_minor": 0
}
